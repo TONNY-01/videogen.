{
  "metadata": {
    "kernelspec": {
      "language": "python",
      "display_name": "Python 3",
      "name": "python3"
    },
    "language_info": {
      "name": "python",
      "version": "3.10.12",
      "mimetype": "text/x-python",
      "codemirror_mode": {
        "name": "ipython",
        "version": 3
      },
      "pygments_lexer": "ipython3",
      "nbconvert_exporter": "python",
      "file_extension": ".py"
    },
    "kaggle": {
      "accelerator": "nvidiaTeslaT4",
      "dataSources": [],
      "dockerImageVersionId": 30918,
      "isInternetEnabled": true,
      "language": "python",
      "sourceType": "notebook",
      "isGpuEnabled": true
    },
    "colab": {
      "provenance": [],
      "include_colab_link": true
    }
  },
  "nbformat_minor": 0,
  "nbformat": 4,
  "cells": [
    {
      "cell_type": "markdown",
      "metadata": {
        "id": "view-in-github",
        "colab_type": "text"
      },
      "source": [
        "<a href=\"https://colab.research.google.com/github/TONNY-01/videogen./blob/main/Video_generation_with_Comfy_.ipynb\" target=\"_parent\"><img src=\"https://colab.research.google.com/assets/colab-badge.svg\" alt=\"Open In Colab\"/></a>"
      ]
    },
    {
      "cell_type": "markdown",
      "source": [
        "# Installation"
      ],
      "metadata": {
        "id": "PlkKZvIAAnaU"
      }
    },
    {
      "cell_type": "markdown",
      "source": [
        "Session options:\n",
        " * Accelerator: GPU T4 x2\n",
        " * Language: Python\n",
        " * Persistence: File Only\n",
        " * Environment: Pin to original environment\n"
      ],
      "metadata": {
        "id": "E8eg0iw7AnaW"
      }
    },
    {
      "cell_type": "code",
      "source": [
        "%%time\n",
        "update = False\n",
        "\n",
        "import os\n",
        "import stat\n",
        "#!rm -rf /kaggle/working/venv\n",
        "home_dir = '/kaggle/working'\n",
        "python = '/kaggle/working/venv/bin/python'\n",
        "pip = '/kaggle/working/venv/bin/pip'\n",
        "\n",
        "def find_bin_folders(folder_path):\n",
        "    bin_folders = []\n",
        "    for root, dirs, files in os.walk(folder_path):\n",
        "        for dir_name in dirs:\n",
        "            if dir_name == 'bin':\n",
        "                bin_folders.append(os.path.join(root, dir_name))\n",
        "    return bin_folders\n",
        "\n",
        "def installLibraries(home_dir, python, pip):\n",
        "  %cd {home_dir}\n",
        "  !{pip} install torch torchvision torchaudio --index-url https://download.pytorch.org/whl/cu121\n",
        "  !{pip} install tensorflow[and-cuda]\n",
        "  # TODO: download req.txt\n",
        "  !wget https://q4j3.c11.e2-5.dev/downloads/req.txt\n",
        "  !{pip} install -r /kaggle/working/req.txt\n",
        "\n",
        "!pip install virtualenv\n",
        "\n",
        "if not os.path.exists(f'{home_dir}/venv'):\n",
        "    print('installing venv')\n",
        "    os.chdir(home_dir)\n",
        "    get_ipython().system(f'cd {home_dir}')\n",
        "\n",
        "    get_ipython().system('virtualenv venv -p $(which python3.10)')\n",
        "    installLibraries(home_dir, python, pip)\n",
        "else:\n",
        "    bin_folders = find_bin_folders('/kaggle/working/venv')\n",
        "    if bin_folders:\n",
        "      print(\"Found 'bin' folders:\")\n",
        "      for bin_folder in bin_folders:\n",
        "        print(bin_folder)\n",
        "        for filename in os.listdir(bin_folder):\n",
        "            file_path = os.path.join(bin_folder, filename)\n",
        "            if os.path.isfile(file_path):\n",
        "                current_permissions = os.stat(file_path).st_mode\n",
        "                 # Add execute permissions for the user, group, and others\n",
        "                os.chmod(file_path, current_permissions | stat.S_IXUSR | stat.S_IXGRP | stat.S_IXOTH)\n",
        "\n",
        "if not os.path.exists(f'{home_dir}/venv/bin/python3.10'):\n",
        "    get_ipython().system('cp /usr/bin/python3.10 /kaggle/working/venv/bin/')\n",
        "!ln -s /kaggle/working/venv/bin/python3.10 /kaggle/working/venv/bin/python\n",
        "!ln -s /kaggle/working/venv/bin/python3.10 /kaggle/working/venv/bin/python3\n",
        "\n",
        "%cd /kaggle/working\n",
        "!git clone https://github.com/comfyanonymous/ComfyUI.git\n",
        "%cd ComfyUI\n",
        "!git checkout 7fc3ccdcc2fb1f20c4b7dd4aca374db952fd66df\n",
        "\n",
        "!{pip} install -r requirements.txt\n",
        "\n",
        "!mkdir /tmp/models\n",
        "!mkdir /tmp/models/checkpoints\n",
        "!mkdir /tmp/models/clip\n",
        "!mkdir /tmp/models/vae\n",
        "!mkdir /tmp/models/unet\n",
        "\n",
        "# Remove the following two lines to keep models in permanent storage\n",
        "!rm -rf /kaggle/working/ComfyUI/models/checkpoints\n",
        "!rm -rf /kaggle/working/ComfyUI/models/clip\n",
        "!rm -rf /kaggle/working/ComfyUI/models/vae\n",
        "!rm -rf /kaggle/working/ComfyUI/models/unet\n",
        "\n",
        "!ln -s /tmp/models/checkpoints /kaggle/working/ComfyUI/models/checkpoints\n",
        "!ln -s /tmp/models/clip /kaggle/working/ComfyUI/models/clip\n",
        "!ln -s /tmp/models/vae /kaggle/working/ComfyUI/models/vae\n",
        "!ln -s /tmp/models/unet /kaggle/working/ComfyUI/models/unet\n",
        "\n",
        "checkpoints =  '/kaggle/working/ComfyUI/models/checkpoints'\n",
        "link_path = checkpoints + '/temp-models'\n",
        "temp_models = '/kaggle/temp/temp-models'\n",
        "\n",
        "!mkdir /kaggle/temp\n",
        "!mkdir $temp_models\n",
        "\n",
        "if not os.path.exists(link_path):\n",
        "    get_ipython().system(f'ln -s {temp_models} {checkpoints}')\n",
        "\n",
        "# Install the node manager\n",
        "update_manager = True\n",
        "%cd /kaggle/working/ComfyUI/custom_nodes\n",
        "!git clone https://github.com/ltdrdata/ComfyUI-Manager.git\n",
        "%cd ComfyUI-Manager\n",
        "\n",
        "if update_manager:\n",
        "    get_ipython().system('git pull')\n",
        "#!{pip} install -r requirements.txt\n",
        "\n",
        "# Pinggy script\n",
        "!wget https://raw.githubusercontent.com/wandaweb/jupyter-webui-tunneling/main/pinggy.py -O /kaggle/working/pinggy.py\n",
        "\n",
        "# Second GPU offload\n",
        "%cd /kaggle/working/ComfyUI/custom_nodes\n",
        "!wget https://gist.githubusercontent.com/city96/30743dfdfe129b331b5676a79c3a8a39/raw/ecb4f6f5202c20ea723186c93da308212ba04cfb/ComfyBootlegOffload.py\n"
      ],
      "metadata": {
        "_uuid": "8f2839f25d086af736a60e9eeb907d3b93b6e0e5",
        "_cell_guid": "b1076dfc-b9ad-4769-8c92-a6c4dae69d19",
        "trusted": true,
        "id": "r8B0Uye1AnaX"
      },
      "outputs": [],
      "execution_count": null
    },
    {
      "cell_type": "markdown",
      "source": [
        "---\n",
        "# WebUI"
      ],
      "metadata": {
        "id": "zk1trXXaAnaZ"
      }
    },
    {
      "cell_type": "markdown",
      "source": [
        "## Start the WebUI with Pinggy\n",
        "* Wait for the GUI to start.  \n",
        "* Click the link that ends with .pinggy.link 😁\n",
        "* If generation is still running after the link expires in an hour, wait for the generation to complete and restart the WebUI code block to get a new link"
      ],
      "metadata": {
        "id": "DBaHPme1AnaZ"
      }
    },
    {
      "cell_type": "code",
      "source": [
        "# Starting the Web UI with pinggy\n",
        "\n",
        "%cd /kaggle/working/ComfyUI\n",
        "!python /kaggle/working/pinggy.py --command='/kaggle/working/venv/bin/python /kaggle/working/ComfyUI/main.py' --port=8188"
      ],
      "metadata": {
        "trusted": true,
        "id": "_VUH8WOaAnaa"
      },
      "outputs": [],
      "execution_count": null
    },
    {
      "cell_type": "markdown",
      "source": [
        "## Start the WebUI with Zrok\n",
        "\n",
        "### Install Zrok"
      ],
      "metadata": {
        "id": "Caq677fbAnaa"
      }
    },
    {
      "cell_type": "code",
      "source": [
        "# Install Zrok (only needs to run once)\n",
        "\n",
        "!mkdir /kaggle/working/zrok\n",
        "%cd /kaggle/working/zrok\n",
        "!wget https://github.com/openziti/zrok/releases/download/v0.4.23/zrok_0.4.23_linux_amd64.tar.gz\n",
        "!tar -xvf ./zrok*.gz\n",
        "!chmod a+x /kaggle/working/zrok/zrok"
      ],
      "metadata": {
        "trusted": true,
        "id": "lwXME8i4Anab"
      },
      "outputs": [],
      "execution_count": null
    },
    {
      "cell_type": "markdown",
      "source": [
        "### Create a Zrok account\n",
        "Enter your email address in the email variable"
      ],
      "metadata": {
        "id": "gJPDh_tvAnab"
      }
    },
    {
      "cell_type": "code",
      "source": [
        "email = '####@gmail.com' # replace with your email\n",
        "\n",
        "# --------------\n",
        "\n",
        "cmd = '/kaggle/working/zrok/zrok invite'\n",
        "log = '/kaggle/working/zrok/log.txt'\n",
        "\n",
        "!pip install pexpect\n",
        "!touch $log\n",
        "\n",
        "import pexpect\n",
        "import time\n",
        "child = pexpect.spawn('bash')\n",
        "child.sendline(f'{cmd} | tee {log}')\n",
        "child.expect('enter and confirm your email address...')\n",
        "time.sleep(1); child.sendline(email); time.sleep(1); child.send(chr(9)); time.sleep(1)\n",
        "child.sendline(email); time.sleep(1); child.send('\\n'); time.sleep(1); child.send(chr(9))\n",
        "time.sleep(1); child.send('\\r\\n'); time.sleep(2); child.close()\n",
        "!cat $log\n",
        "!rm $log"
      ],
      "metadata": {
        "trusted": true,
        "id": "VQZnxJVoAnac"
      },
      "outputs": [],
      "execution_count": null
    },
    {
      "cell_type": "markdown",
      "source": [
        "### Enable Zrok\n",
        "Paste your Zrok token in the token variable"
      ],
      "metadata": {
        "id": "j9rWMPKUAnac"
      }
    },
    {
      "cell_type": "code",
      "source": [
        "# Enable Zrok (needs to run once per instance)\n",
        "# Paste your Zrok token in the token variable\n",
        "\n",
        "token = \"\"\n",
        "!chmod a+x /kaggle/working/zrok/zrok\n",
        "!/kaggle/working/zrok/zrok enable $token"
      ],
      "metadata": {
        "trusted": true,
        "id": "kNEtL2Q7Anac"
      },
      "outputs": [],
      "execution_count": null
    },
    {
      "cell_type": "markdown",
      "source": [
        "### Start the WebUI with Zrok"
      ],
      "metadata": {
        "id": "IEaNs62KAnad"
      }
    },
    {
      "cell_type": "code",
      "source": [
        "# Start the WebUI with Zrok\n",
        "%cd /kaggle/working/ComfyUI\n",
        "command = '/kaggle/working/venv/bin/python /kaggle/working/ComfyUI/main.py'\n",
        "port = '8188'\n",
        "# ------------------------\n",
        "\n",
        "!chmod a+x /kaggle/working/zrok/zrok\n",
        "cmd = f'{command} & /kaggle/working/zrok/zrok share public http://localhost:{port} --headless'\n",
        "get_ipython().system(cmd)"
      ],
      "metadata": {
        "trusted": true,
        "id": "qMxnoZknAnad"
      },
      "outputs": [],
      "execution_count": null
    },
    {
      "cell_type": "markdown",
      "source": [
        "---\n",
        "# Model Management"
      ],
      "metadata": {
        "id": "iKSeQ0FrAnad"
      }
    },
    {
      "cell_type": "markdown",
      "source": [
        "## Install a model\n",
        "\n",
        "Copy the model URL to the model_url field. Make sure the model can be accessed publicly, without being signed into a website."
      ],
      "metadata": {
        "id": "0mLFXsbGAnad"
      }
    },
    {
      "cell_type": "code",
      "source": [
        "#### Install a model in permanent storage\n",
        "# Make sure Persistence is set to \"Files only\" or \"Variables and Files\"\n",
        "model_url = 'https://civitai.com/api/download/models/782002'\n",
        "model_name = 'JuggernautXL.safetensors'\n",
        "\n",
        "%cd $checkpoints\n",
        "get_ipython().system(f'wget -O \"{model_name}\" \"{model_url}\"')"
      ],
      "metadata": {
        "trusted": true,
        "id": "0yBJUHOYAnad"
      },
      "outputs": [],
      "execution_count": null
    },
    {
      "cell_type": "code",
      "source": [
        "# Install a LoRA in permanent storage\n",
        "model_url = 'https://civitai.com/api/download/models/137124?type=Model&format=SafeTensor'\n",
        "model_name = 'DreamArt.safetensors'\n",
        "\n",
        "%cd /kaggle/working/ComfyUI/models/loras\n",
        "get_ipython().system(f'wget -O \"{model_name}\" \"{model_url}\"')"
      ],
      "metadata": {
        "trusted": true,
        "id": "ToGMp8ZrAnad"
      },
      "outputs": [],
      "execution_count": null
    },
    {
      "cell_type": "code",
      "source": [
        "# Install a model in temporary storage\n",
        "#model_url = 'https://civitai.com/api/download/models/160191?type=Model&format=SafeTensor&size=full&fp=fp16'\n",
        "#model_name = 'YamersRealism.safetensors'\n",
        "model_url = 'https://civitai.com/api/download/models/456751'\n",
        "model_name = 'HelloWorld-XL.safetensors'\n",
        "\n",
        "%cd $temp_models\n",
        "get_ipython().system(f'wget -O \"{model_name}\" \"{model_url}\"')"
      ],
      "metadata": {
        "trusted": true,
        "id": "abRtPCY_Anae"
      },
      "outputs": [],
      "execution_count": null
    },
    {
      "cell_type": "markdown",
      "source": [
        "## Download a model for a custom node"
      ],
      "metadata": {
        "id": "uvca0a1qAnae"
      }
    },
    {
      "cell_type": "code",
      "source": [
        "model_folder = '/kaggle/working/ComfyUI/custom_nodes/my_node/models'\n",
        "model_url = ''\n",
        "model_name = 'model.safetensors'\n",
        "\n",
        "%cd $model_folder\n",
        "get_ipython().system(f'wget -O \"{model_name}\" \"{model_url}\"')"
      ],
      "metadata": {
        "trusted": true,
        "id": "9bha0xLaAnae"
      },
      "outputs": [],
      "execution_count": null
    },
    {
      "cell_type": "markdown",
      "source": [
        "---\n",
        "# File Browser"
      ],
      "metadata": {
        "id": "7uVEgeYOAnae"
      }
    },
    {
      "cell_type": "markdown",
      "source": [
        "## Install FileBrowser"
      ],
      "metadata": {
        "id": "yFHYYtPaAnaf"
      }
    },
    {
      "cell_type": "code",
      "source": [
        "%cd /kaggle\n",
        "!wget https://github.com/filebrowser/filebrowser/releases/download/v2.27.0/linux-amd64-filebrowser.tar.gz\n",
        "!tar xvfz linux-amd64-filebrowser.tar.gz\n",
        "!chmod a+x /kaggle/filebrowser\n",
        "!/kaggle/filebrowser config init\n",
        "!/kaggle/filebrowser config set --auth.method=noauth > /dev/null\n",
        "!/kaggle/filebrowser config set --branding.theme=dark > /dev/null\n",
        "!/kaggle/filebrowser users add admin admin\n",
        "!/kaggle/filebrowser config export \"/kaggle/config.json\""
      ],
      "metadata": {
        "trusted": true,
        "id": "_j3QxumgAnaf"
      },
      "outputs": [],
      "execution_count": null
    },
    {
      "cell_type": "markdown",
      "source": [
        "## Run FileBrowser"
      ],
      "metadata": {
        "id": "joeK7MrbAnaf"
      }
    },
    {
      "cell_type": "code",
      "source": [
        "%cd /kaggle\n",
        "!chmod a+x /kaggle/filebrowser\n",
        "\n",
        "!python /kaggle/working/pinggy.py --command='/kaggle/filebrowser -c \"/kaggle/working/config.json\"' --port=8080"
      ],
      "metadata": {
        "trusted": true,
        "id": "0mfmY0LeAnaf"
      },
      "outputs": [],
      "execution_count": null
    },
    {
      "cell_type": "markdown",
      "source": [
        "#\n",
        "# Delete a model"
      ],
      "metadata": {
        "id": "2IwAppnOAnaf"
      }
    },
    {
      "cell_type": "code",
      "source": [
        "# List permanent models\n",
        "!ls -la $checkpoints\n",
        "\n",
        "# Delete a model\n",
        "model_to_delete = '/kaggle/working/ComfyUI/models/checkpoints/model.safetensors'\n",
        "!rm $model_to_delete"
      ],
      "metadata": {
        "trusted": true,
        "id": "UUyYnIQkAnag"
      },
      "outputs": [],
      "execution_count": null
    },
    {
      "cell_type": "code",
      "source": [
        "# Check the size of a model\n",
        "!du -sh /kaggle/working/ComfyUI/models/loras/harrlogos.safetensors"
      ],
      "metadata": {
        "trusted": true,
        "id": "NjwU4wWLAnag"
      },
      "outputs": [],
      "execution_count": null
    },
    {
      "cell_type": "markdown",
      "source": [
        "#\n",
        "# Delete everything in the working folder"
      ],
      "metadata": {
        "id": "NAVPRFIPAnag"
      }
    },
    {
      "cell_type": "code",
      "source": [
        "# Delete the working folder\n",
        "!rm -rf /kaggle/working/*"
      ],
      "metadata": {
        "trusted": true,
        "id": "V-bMykciAnag"
      },
      "outputs": [],
      "execution_count": null
    }
  ]
}